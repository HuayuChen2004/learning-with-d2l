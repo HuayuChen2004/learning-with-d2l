{
 "cells": [
  {
   "cell_type": "code",
   "execution_count": 1,
   "id": "e533f7d3",
   "metadata": {},
   "outputs": [],
   "source": [
    "import torch\n",
    "def synthetic_data(w, b, num_example):  #@save\n",
    "    '''to produce noise for wx + b'''\n",
    "    X = torch.normal(0, 1, (num_example, len(w)))\n",
    "    y = torch.matmul(X, w) + b  # true value for the original y\n",
    "    y += torch.normal(0, 0.01, y.shape)  # set the sigma to 0.01\n",
    "    return X, y.reshape((-1, 1))"
   ]
  },
  {
   "cell_type": "code",
   "execution_count": 2,
   "id": "e741a74d",
   "metadata": {},
   "outputs": [],
   "source": [
    "def linreg(X, w, b):  #@save\n",
    "    '''linear regression model'''\n",
    "    return torch.matmul(X, w) + b"
   ]
  },
  {
   "cell_type": "code",
   "execution_count": 3,
   "id": "5bfd1c39",
   "metadata": {},
   "outputs": [],
   "source": [
    "def squared_loss(y_hat, y):  #@save\n",
    "    '''calculate the squared loss'''\n",
    "    return (y_hat - y.reshape(y_hat.shape)) ** 2 / 2"
   ]
  },
  {
   "cell_type": "code",
   "execution_count": 5,
   "id": "2ffd4379",
   "metadata": {},
   "outputs": [],
   "source": [
    "def sgd(params, lr, batch_size):  #@save\n",
    "    '''stochastic gradient descent in small batches'''\n",
    "    with torch.no_grad():\n",
    "        for param in params:\n",
    "            param -= lr * param.grad / batch_size\n",
    "            param.grad.zero_()"
   ]
  },
  {
   "cell_type": "code",
   "execution_count": 6,
   "id": "cc8e8524",
   "metadata": {},
   "outputs": [],
   "source": [
    "from random import shuffle\n",
    "def data_iter(batch_size, features, labels):\n",
    "    num_examples = len(features)\n",
    "    indices = list(range(num_examples)) # indices of the whole feature matrix\n",
    "    shuffle(indices)\n",
    "    for i in range(0, num_examples, batch_size):\n",
    "        batch_indices = torch.tensor(indices[i:min(i+batch_size, num_examples)])\n",
    "        yield features[batch_indices], labels[batch_indices]\n",
    "        "
   ]
  },
  {
   "cell_type": "code",
   "execution_count": null,
   "id": "8d3c9a7c",
   "metadata": {},
   "outputs": [],
   "source": []
  }
 ],
 "metadata": {
  "kernelspec": {
   "display_name": "Python 3 (ipykernel)",
   "language": "python",
   "name": "python3"
  },
  "language_info": {
   "codemirror_mode": {
    "name": "ipython",
    "version": 3
   },
   "file_extension": ".py",
   "mimetype": "text/x-python",
   "name": "python",
   "nbconvert_exporter": "python",
   "pygments_lexer": "ipython3",
   "version": "3.11.5"
  }
 },
 "nbformat": 4,
 "nbformat_minor": 5
}
