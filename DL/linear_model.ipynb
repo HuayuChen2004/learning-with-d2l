{
 "cells": [
  {
   "cell_type": "code",
   "execution_count": 1,
   "id": "3c38c732",
   "metadata": {},
   "outputs": [],
   "source": [
    "import numpy as np\n",
    "import torch\n",
    "from torch.utils import data\n",
    "from d2l import torch as d2l\n",
    "# y = wx + b"
   ]
  },
  {
   "cell_type": "code",
   "execution_count": 3,
   "id": "cef31938",
   "metadata": {},
   "outputs": [],
   "source": [
    "true_w = torch.tensor([2, -3.4])\n",
    "true_b = 4.2\n",
    "features, labels = d2l.synthetic_data(true_w, true_b, 1000)"
   ]
  },
  {
   "cell_type": "code",
   "execution_count": 4,
   "id": "d4e29f86",
   "metadata": {},
   "outputs": [],
   "source": [
    "def load_array(data_arrays, batch_size, is_train = True): #@save\n",
    "    '''构造一个PyTorch数据迭代器'''\n",
    "    dataset = data.TensorDataset(*data_arrays)\n",
    "    return data.DataLoader(dataset, batch_size, shuffle = is_train)"
   ]
  },
  {
   "cell_type": "code",
   "execution_count": 5,
   "id": "5a9c8ddf",
   "metadata": {},
   "outputs": [],
   "source": [
    "batch_size = 10\n",
    "data_iter = load_array((features, labels), batch_size)"
   ]
  },
  {
   "cell_type": "code",
   "execution_count": 6,
   "id": "3253bb4a",
   "metadata": {},
   "outputs": [
    {
     "data": {
      "text/plain": [
       "[tensor([[ 0.2001,  1.6271],\n",
       "         [ 1.3237,  0.1460],\n",
       "         [ 1.4999,  1.0195],\n",
       "         [ 1.6863, -0.4311],\n",
       "         [-0.2659,  0.3557],\n",
       "         [ 2.3573, -0.4873],\n",
       "         [ 0.0669, -0.4082],\n",
       "         [-0.4644,  2.4970],\n",
       "         [ 0.1838, -0.0681],\n",
       "         [ 0.0385, -0.2310]]),\n",
       " tensor([[-0.9407],\n",
       "         [ 6.3378],\n",
       "         [ 3.7353],\n",
       "         [ 9.0310],\n",
       "         [ 2.4499],\n",
       "         [10.5609],\n",
       "         [ 5.7067],\n",
       "         [-5.2189],\n",
       "         [ 4.7755],\n",
       "         [ 5.0527]])]"
      ]
     },
     "execution_count": 6,
     "metadata": {},
     "output_type": "execute_result"
    }
   ],
   "source": [
    "next(iter(data_iter))"
   ]
  },
  {
   "cell_type": "code",
   "execution_count": 7,
   "id": "decb9a84",
   "metadata": {},
   "outputs": [],
   "source": [
    "# nn is the abbr for neural network\n",
    "from torch import nn\n",
    "net = nn.Sequential(nn.Linear(2, 1))"
   ]
  },
  {
   "cell_type": "code",
   "execution_count": 8,
   "id": "d1bde106",
   "metadata": {},
   "outputs": [
    {
     "data": {
      "text/plain": [
       "tensor([0.])"
      ]
     },
     "execution_count": 8,
     "metadata": {},
     "output_type": "execute_result"
    }
   ],
   "source": [
    "# initialize the parameters\n",
    "net[0].weight.data.normal_(0, 0.01)\n",
    "net[0].bias.data.fill_(0)"
   ]
  },
  {
   "cell_type": "code",
   "execution_count": 9,
   "id": "d6641c05",
   "metadata": {},
   "outputs": [],
   "source": [
    "loss = nn.MSELoss()"
   ]
  },
  {
   "cell_type": "code",
   "execution_count": 11,
   "id": "d8b20761",
   "metadata": {},
   "outputs": [],
   "source": [
    "trainer = torch.optim.SGD(net.parameters(), lr = 0.03)"
   ]
  },
  {
   "cell_type": "code",
   "execution_count": 22,
   "id": "e4e340b3",
   "metadata": {},
   "outputs": [
    {
     "name": "stdout",
     "output_type": "stream",
     "text": [
      "Epoch 1 loss 0.000101\n",
      "Epoch 2 loss 0.000099\n",
      "Epoch 3 loss 0.000100\n"
     ]
    }
   ],
   "source": [
    "num_epoch = 3\n",
    "for epoch in range(num_epoch):\n",
    "    # optimizing process\n",
    "    for X, y in data_iter:   # data_iter here serves as a dataset\n",
    "                             # batch_size is included in data_iter\n",
    "        l = loss(net(X), y)\n",
    "        trainer.zero_grad()\n",
    "        l.backward()\n",
    "        trainer.step()\n",
    "    l = loss(net(features), labels)\n",
    "    print(f\"Epoch {epoch+1} loss {l:f}\")\n",
    "    "
   ]
  },
  {
   "cell_type": "code",
   "execution_count": 24,
   "id": "3d06e345",
   "metadata": {},
   "outputs": [
    {
     "name": "stdout",
     "output_type": "stream",
     "text": [
      "tensor([-0.0006, -0.0006])\n",
      "tensor([-9.8228e-05])\n"
     ]
    }
   ],
   "source": [
    "w = net[0].weight.data\n",
    "b = net[0].bias.data\n",
    "print(true_w - w.reshape(true_w.shape))\n",
    "print(true_b - b)"
   ]
  },
  {
   "cell_type": "code",
   "execution_count": null,
   "id": "afdd2d95",
   "metadata": {},
   "outputs": [],
   "source": []
  }
 ],
 "metadata": {
  "kernelspec": {
   "display_name": "Python 3 (ipykernel)",
   "language": "python",
   "name": "python3"
  },
  "language_info": {
   "codemirror_mode": {
    "name": "ipython",
    "version": 3
   },
   "file_extension": ".py",
   "mimetype": "text/x-python",
   "name": "python",
   "nbconvert_exporter": "python",
   "pygments_lexer": "ipython3",
   "version": "3.11.5"
  }
 },
 "nbformat": 4,
 "nbformat_minor": 5
}
