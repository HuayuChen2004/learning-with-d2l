{
 "cells": [
  {
   "cell_type": "markdown",
   "id": "a2134df5",
   "metadata": {},
   "source": [
    "顺序块"
   ]
  },
  {
   "cell_type": "code",
   "execution_count": 18,
   "id": "e9c8139e",
   "metadata": {},
   "outputs": [],
   "source": [
    "import torch\n",
    "from torch import nn\n",
    "from torch import functional as F"
   ]
  },
  {
   "cell_type": "code",
   "execution_count": 19,
   "id": "0e79bc1e",
   "metadata": {},
   "outputs": [],
   "source": [
    "class MySequential(nn.Module):\n",
    "    def __init__(self, *args):\n",
    "        super().__init__()\n",
    "        for idx, module in enumerate(args):\n",
    "            # Module类自带一个成员变量_modules,类型是OrderedDict\n",
    "            self._modules[str(idx)] = module\n",
    "            \n",
    "    def forward(self, X):\n",
    "        for block in self._modules.values():    # 字典的value就是那些module\n",
    "            X = block(X)\n",
    "        return X\n",
    "            "
   ]
  },
  {
   "cell_type": "code",
   "execution_count": 20,
   "id": "a80f128b",
   "metadata": {},
   "outputs": [
    {
     "data": {
      "text/plain": [
       "tensor([[-0.0121, -0.0479, -0.1390, -0.0256, -0.1550,  0.2412, -0.0868,  0.2041,\n",
       "          0.0157,  0.0513],\n",
       "        [-0.0029, -0.1223, -0.1374, -0.1804, -0.2017,  0.1549, -0.1933,  0.2600,\n",
       "         -0.1078,  0.1702]], grad_fn=<AddmmBackward0>)"
      ]
     },
     "execution_count": 20,
     "metadata": {},
     "output_type": "execute_result"
    }
   ],
   "source": [
    "net = MySequential(nn.Linear(20, 256), nn.ReLU(), nn.Linear(256, 10))\n",
    "X = torch.rand(2, 20)\n",
    "net(X)"
   ]
  },
  {
   "cell_type": "markdown",
   "id": "45448dd8",
   "metadata": {},
   "source": [
    "5.2参数管理"
   ]
  },
  {
   "cell_type": "code",
   "execution_count": 21,
   "id": "1002fd49",
   "metadata": {},
   "outputs": [],
   "source": [
    "import torch\n",
    "from torch import nn"
   ]
  },
  {
   "cell_type": "code",
   "execution_count": 22,
   "id": "9d8cdd06",
   "metadata": {},
   "outputs": [],
   "source": [
    "class share_MLP(nn.Module):\n",
    "    def __init__(self):\n",
    "        super().__init__()\n",
    "        self.linear = nn.Linear(4, 4)\n",
    "        self.net = nn.Sequential(\n",
    "                self.linear,\n",
    "                nn.ReLU(),\n",
    "                self.linear)\n",
    "    def forward(self, x):\n",
    "        return self.net(x)\n",
    "    "
   ]
  },
  {
   "cell_type": "code",
   "execution_count": 23,
   "id": "e5464c24",
   "metadata": {},
   "outputs": [],
   "source": [
    "input_data = torch.rand(4, 4)\n",
    "target_data = torch.rand(4, 4)\n",
    "mlp = share_MLP()\n",
    "output_data = mlp.forward(input_data)"
   ]
  },
  {
   "cell_type": "code",
   "execution_count": 24,
   "id": "aca70b22",
   "metadata": {},
   "outputs": [],
   "source": [
    "loss = nn.MSELoss()\n",
    "lr = 0.1\n",
    "optim = torch.optim.SGD(mlp.parameters(), lr = lr)"
   ]
  },
  {
   "cell_type": "code",
   "execution_count": 25,
   "id": "25ee1de7",
   "metadata": {},
   "outputs": [],
   "source": [
    "num_epochs = 5"
   ]
  },
  {
   "cell_type": "code",
   "execution_count": 26,
   "id": "89b0e56f",
   "metadata": {},
   "outputs": [],
   "source": [
    "def train(net, loss, num_epochs, optim): \n",
    "    for epoch in range(num_epochs):\n",
    "        \n",
    "        l = loss(output_data, target_data)\n",
    "        optim.zero_grad()\n",
    "        l.backward()\n",
    "        print('weight of layer1', net.net[0].weight.data)\n",
    "        print('weight of layer2', net.net[2].weight.data)\n",
    "        print(\"grad of layer1's weight\", net.net[0].weight.grad)\n",
    "        print(\"grad of layer2's weight\", net.net[2].weight.grad)\n",
    "        optim.step()"
   ]
  },
  {
   "cell_type": "code",
   "execution_count": 27,
   "id": "6c360c1e",
   "metadata": {},
   "outputs": [
    {
     "name": "stdout",
     "output_type": "stream",
     "text": [
      "weight of layer1 tensor([[-0.4021, -0.1951, -0.2522, -0.4914],\n",
      "        [-0.1438,  0.2135, -0.4457,  0.4051],\n",
      "        [-0.2398,  0.2357, -0.4527, -0.1559],\n",
      "        [-0.2104, -0.1944, -0.3462, -0.0373]])\n",
      "weight of layer2 tensor([[-0.4021, -0.1951, -0.2522, -0.4914],\n",
      "        [-0.1438,  0.2135, -0.4457,  0.4051],\n",
      "        [-0.2398,  0.2357, -0.4527, -0.1559],\n",
      "        [-0.2104, -0.1944, -0.3462, -0.0373]])\n",
      "grad of layer1's weight tensor([[ 0.0000,  0.0000,  0.0000, -0.0070],\n",
      "        [ 0.0000,  0.0000,  0.0000, -0.0073],\n",
      "        [ 0.0000,  0.0000,  0.0000, -0.0090],\n",
      "        [ 0.0009,  0.0099,  0.0126,  0.0106]])\n",
      "grad of layer2's weight tensor([[ 0.0000,  0.0000,  0.0000, -0.0070],\n",
      "        [ 0.0000,  0.0000,  0.0000, -0.0073],\n",
      "        [ 0.0000,  0.0000,  0.0000, -0.0090],\n",
      "        [ 0.0009,  0.0099,  0.0126,  0.0106]])\n"
     ]
    },
    {
     "ename": "RuntimeError",
     "evalue": "Trying to backward through the graph a second time (or directly access saved tensors after they have already been freed). Saved intermediate values of the graph are freed when you call .backward() or autograd.grad(). Specify retain_graph=True if you need to backward through the graph a second time or if you need to access saved tensors after calling backward.",
     "output_type": "error",
     "traceback": [
      "\u001b[1;31m---------------------------------------------------------------------------\u001b[0m",
      "\u001b[1;31mRuntimeError\u001b[0m                              Traceback (most recent call last)",
      "Cell \u001b[1;32mIn[27], line 1\u001b[0m\n\u001b[1;32m----> 1\u001b[0m train(mlp, loss, num_epochs, optim)\n",
      "Cell \u001b[1;32mIn[26], line 6\u001b[0m, in \u001b[0;36mtrain\u001b[1;34m(net, loss, num_epochs, optim)\u001b[0m\n\u001b[0;32m      4\u001b[0m l \u001b[38;5;241m=\u001b[39m loss(output_data, target_data)\n\u001b[0;32m      5\u001b[0m optim\u001b[38;5;241m.\u001b[39mzero_grad()\n\u001b[1;32m----> 6\u001b[0m l\u001b[38;5;241m.\u001b[39mbackward()\n\u001b[0;32m      7\u001b[0m \u001b[38;5;28mprint\u001b[39m(\u001b[38;5;124m'\u001b[39m\u001b[38;5;124mweight of layer1\u001b[39m\u001b[38;5;124m'\u001b[39m, net\u001b[38;5;241m.\u001b[39mnet[\u001b[38;5;241m0\u001b[39m]\u001b[38;5;241m.\u001b[39mweight\u001b[38;5;241m.\u001b[39mdata)\n\u001b[0;32m      8\u001b[0m \u001b[38;5;28mprint\u001b[39m(\u001b[38;5;124m'\u001b[39m\u001b[38;5;124mweight of layer2\u001b[39m\u001b[38;5;124m'\u001b[39m, net\u001b[38;5;241m.\u001b[39mnet[\u001b[38;5;241m2\u001b[39m]\u001b[38;5;241m.\u001b[39mweight\u001b[38;5;241m.\u001b[39mdata)\n",
      "File \u001b[1;32mD:\\Users\\ASUS\\anaconda3\\Lib\\site-packages\\torch\\_tensor.py:492\u001b[0m, in \u001b[0;36mTensor.backward\u001b[1;34m(self, gradient, retain_graph, create_graph, inputs)\u001b[0m\n\u001b[0;32m    482\u001b[0m \u001b[38;5;28;01mif\u001b[39;00m has_torch_function_unary(\u001b[38;5;28mself\u001b[39m):\n\u001b[0;32m    483\u001b[0m     \u001b[38;5;28;01mreturn\u001b[39;00m handle_torch_function(\n\u001b[0;32m    484\u001b[0m         Tensor\u001b[38;5;241m.\u001b[39mbackward,\n\u001b[0;32m    485\u001b[0m         (\u001b[38;5;28mself\u001b[39m,),\n\u001b[1;32m   (...)\u001b[0m\n\u001b[0;32m    490\u001b[0m         inputs\u001b[38;5;241m=\u001b[39minputs,\n\u001b[0;32m    491\u001b[0m     )\n\u001b[1;32m--> 492\u001b[0m torch\u001b[38;5;241m.\u001b[39mautograd\u001b[38;5;241m.\u001b[39mbackward(\n\u001b[0;32m    493\u001b[0m     \u001b[38;5;28mself\u001b[39m, gradient, retain_graph, create_graph, inputs\u001b[38;5;241m=\u001b[39minputs\n\u001b[0;32m    494\u001b[0m )\n",
      "File \u001b[1;32mD:\\Users\\ASUS\\anaconda3\\Lib\\site-packages\\torch\\autograd\\__init__.py:251\u001b[0m, in \u001b[0;36mbackward\u001b[1;34m(tensors, grad_tensors, retain_graph, create_graph, grad_variables, inputs)\u001b[0m\n\u001b[0;32m    246\u001b[0m     retain_graph \u001b[38;5;241m=\u001b[39m create_graph\n\u001b[0;32m    248\u001b[0m \u001b[38;5;66;03m# The reason we repeat the same comment below is that\u001b[39;00m\n\u001b[0;32m    249\u001b[0m \u001b[38;5;66;03m# some Python versions print out the first line of a multi-line function\u001b[39;00m\n\u001b[0;32m    250\u001b[0m \u001b[38;5;66;03m# calls in the traceback and some print out the last line\u001b[39;00m\n\u001b[1;32m--> 251\u001b[0m Variable\u001b[38;5;241m.\u001b[39m_execution_engine\u001b[38;5;241m.\u001b[39mrun_backward(  \u001b[38;5;66;03m# Calls into the C++ engine to run the backward pass\u001b[39;00m\n\u001b[0;32m    252\u001b[0m     tensors,\n\u001b[0;32m    253\u001b[0m     grad_tensors_,\n\u001b[0;32m    254\u001b[0m     retain_graph,\n\u001b[0;32m    255\u001b[0m     create_graph,\n\u001b[0;32m    256\u001b[0m     inputs,\n\u001b[0;32m    257\u001b[0m     allow_unreachable\u001b[38;5;241m=\u001b[39m\u001b[38;5;28;01mTrue\u001b[39;00m,\n\u001b[0;32m    258\u001b[0m     accumulate_grad\u001b[38;5;241m=\u001b[39m\u001b[38;5;28;01mTrue\u001b[39;00m,\n\u001b[0;32m    259\u001b[0m )\n",
      "\u001b[1;31mRuntimeError\u001b[0m: Trying to backward through the graph a second time (or directly access saved tensors after they have already been freed). Saved intermediate values of the graph are freed when you call .backward() or autograd.grad(). Specify retain_graph=True if you need to backward through the graph a second time or if you need to access saved tensors after calling backward."
     ]
    }
   ],
   "source": [
    "train(mlp, loss, num_epochs, optim)"
   ]
  },
  {
   "cell_type": "code",
   "execution_count": null,
   "id": "d350ee9e",
   "metadata": {},
   "outputs": [],
   "source": []
  }
 ],
 "metadata": {
  "kernelspec": {
   "display_name": "Python 3 (ipykernel)",
   "language": "python",
   "name": "python3"
  },
  "language_info": {
   "codemirror_mode": {
    "name": "ipython",
    "version": 3
   },
   "file_extension": ".py",
   "mimetype": "text/x-python",
   "name": "python",
   "nbconvert_exporter": "python",
   "pygments_lexer": "ipython3",
   "version": "3.11.5"
  }
 },
 "nbformat": 4,
 "nbformat_minor": 5
}
