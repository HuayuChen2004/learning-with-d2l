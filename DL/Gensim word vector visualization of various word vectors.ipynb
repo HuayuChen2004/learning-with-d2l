{
 "cells": [
  {
   "cell_type": "code",
   "execution_count": 3,
   "id": "fb345cce",
   "metadata": {},
   "outputs": [],
   "source": [
    "import numpy as np\n",
    "\n",
    "%matplotlib inline\n",
    "import matplotlib.pyplot as plt\n",
    "plt.style.use('ggplot')\n",
    "\n",
    "from sklearn.decomposition import PCA\n",
    "\n",
    "import gensim.downloader as api\n",
    "from gensim.models import KeyedVectors"
   ]
  },
  {
   "cell_type": "code",
   "execution_count": 4,
   "id": "f687f68d",
   "metadata": {},
   "outputs": [
    {
     "name": "stdout",
     "output_type": "stream",
     "text": [
      "<class 'gensim.models.keyedvectors.KeyedVectors'>\n"
     ]
    }
   ],
   "source": [
    "model = api.load(\"glove-wiki-gigaword-100\")\n",
    "print(type(model))"
   ]
  },
  {
   "cell_type": "code",
   "execution_count": 5,
   "id": "dee04a98",
   "metadata": {},
   "outputs": [],
   "source": [
    "#model['bread']"
   ]
  },
  {
   "cell_type": "code",
   "execution_count": 6,
   "id": "99a7bbc5",
   "metadata": {},
   "outputs": [
    {
     "data": {
      "text/plain": [
       "[('animal', 0.7462460398674011),\n",
       " ('rights', 0.7322573661804199),\n",
       " ('humans', 0.6607711911201477),\n",
       " ('animals', 0.6567643284797668),\n",
       " ('body', 0.6552972197532654),\n",
       " ('nature', 0.6483666896820068),\n",
       " ('beings', 0.6467736959457397),\n",
       " ('organization', 0.6319881081581116),\n",
       " ('scientific', 0.630841076374054),\n",
       " ('common', 0.6211239099502563)]"
      ]
     },
     "execution_count": 6,
     "metadata": {},
     "output_type": "execute_result"
    }
   ],
   "source": [
    "model.most_similar( 'human')"
   ]
  },
  {
   "cell_type": "code",
   "execution_count": 13,
   "id": "c6e95e84",
   "metadata": {},
   "outputs": [
    {
     "name": "stdout",
     "output_type": "stream",
     "text": [
      "queen:0.7699\n",
      "('queen', 0.7698540687561035)\n"
     ]
    }
   ],
   "source": [
    "result = model.most_similar(positive = ['woman', 'king'], negative = ['man'])\n",
    "print(\"{}:{:.4f}\".format(*result[0]))\n",
    "print(result[0])"
   ]
  },
  {
   "cell_type": "code",
   "execution_count": 8,
   "id": "edb3117f",
   "metadata": {},
   "outputs": [],
   "source": [
    "def analogy(x1, x2, y1):\n",
    "    result = model.most_similar(positive = [y1, x2], negative = [x1])\n",
    "    return result[0][0]"
   ]
  },
  {
   "cell_type": "code",
   "execution_count": 14,
   "id": "1cabeeed",
   "metadata": {},
   "outputs": [
    {
     "data": {
      "text/plain": [
       "'queen'"
      ]
     },
     "execution_count": 14,
     "metadata": {},
     "output_type": "execute_result"
    }
   ],
   "source": [
    "analogy('man', 'king', 'woman')"
   ]
  },
  {
   "cell_type": "code",
   "execution_count": 10,
   "id": "bce88e9d",
   "metadata": {},
   "outputs": [
    {
     "data": {
      "text/plain": [
       "'woman'"
      ]
     },
     "execution_count": 10,
     "metadata": {},
     "output_type": "execute_result"
    }
   ],
   "source": [
    "analogy('king', 'man', 'queen')"
   ]
  },
  {
   "cell_type": "code",
   "execution_count": 28,
   "id": "672edf39",
   "metadata": {},
   "outputs": [
    {
     "data": {
      "text/plain": [
       "'huawei'"
      ]
     },
     "execution_count": 28,
     "metadata": {},
     "output_type": "execute_result"
    }
   ],
   "source": [
    "analogy('usa', 'spacex', 'china')"
   ]
  },
  {
   "cell_type": "code",
   "execution_count": 32,
   "id": "04e30c98",
   "metadata": {},
   "outputs": [
    {
     "data": {
      "text/plain": [
       "'t-mobile'"
      ]
     },
     "execution_count": 32,
     "metadata": {},
     "output_type": "execute_result"
    }
   ],
   "source": [
    "analogy('china', 'huawei', 'usa')"
   ]
  }
 ],
 "metadata": {
  "kernelspec": {
   "display_name": "Python 3 (ipykernel)",
   "language": "python",
   "name": "python3"
  },
  "language_info": {
   "codemirror_mode": {
    "name": "ipython",
    "version": 3
   },
   "file_extension": ".py",
   "mimetype": "text/x-python",
   "name": "python",
   "nbconvert_exporter": "python",
   "pygments_lexer": "ipython3",
   "version": "3.11.5"
  }
 },
 "nbformat": 4,
 "nbformat_minor": 5
}
